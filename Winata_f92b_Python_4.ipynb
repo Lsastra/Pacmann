{
  "nbformat": 4,
  "nbformat_minor": 0,
  "metadata": {
    "kernelspec": {
      "display_name": "Python 3",
      "language": "python",
      "name": "python3"
    },
    "language_info": {
      "codemirror_mode": {
        "name": "ipython",
        "version": 3
      },
      "file_extension": ".py",
      "mimetype": "text/x-python",
      "name": "python",
      "nbconvert_exporter": "python",
      "pygments_lexer": "ipython3",
      "version": "3.6.1"
    },
    "colab": {
      "name": "Copy of Tugas4.ipynb",
      "provenance": [],
      "include_colab_link": true
    }
  },
  "cells": [
    {
      "cell_type": "markdown",
      "metadata": {
        "id": "view-in-github",
        "colab_type": "text"
      },
      "source": [
        "<a href=\"https://colab.research.google.com/github/Lsastra/Pacmann/blob/main/Winata_f92b_Python_4.ipynb\" target=\"_parent\"><img src=\"https://colab.research.google.com/assets/colab-badge.svg\" alt=\"Open In Colab\"/></a>"
      ]
    },
    {
      "cell_type": "markdown",
      "metadata": {
        "id": "KHhyLXQ-ZTQ9"
      },
      "source": [
        "# Tugas Python 4\n",
        "\n",
        "* Silakan download dan kerjakan soal berikut dimanapun (laptop pribadi/google colab/etc.)\n",
        "* Setelah selesai mengerjakan, upload file ini di tempat yang telah disediakan pada platform.\n",
        "* Beri nama file seperti berikut: {username}-python-4.ipynb\n",
        "* Contoh: johndoe1-python-4.ipynb\n",
        "* Username dapat dilihat di dalam akun anda.\n",
        "* Mohon jangan mengubah nama variabel yang telah diberikan.\n",
        "* Namun anda diperbolehkan untuk menambah variabel apapun.\n",
        "---"
      ]
    },
    {
      "cell_type": "markdown",
      "metadata": {
        "id": "2sIsFX-1ZTRH"
      },
      "source": [
        "1. Ambil elemen ke-5 dari _tuple_ di bawah ini.\n",
        "> ekspektasi jawaban: `'jumps'`"
      ]
    },
    {
      "cell_type": "code",
      "metadata": {
        "id": "rH0-KcmZZTRI"
      },
      "source": [
        "tuple_1 = (\"the\",\"quick\",\"brown\",\"fox\",\"jumps\",\"over\",\"the\",\"lazy\",\"dog\")\n",
        "\n",
        "jawaban_1 = tuple_1[4]"
      ],
      "execution_count": 1,
      "outputs": []
    },
    {
      "cell_type": "markdown",
      "metadata": {
        "id": "ZFj9TtvsZTRJ"
      },
      "source": [
        "2. Ambil empat elemen pertama dari _tuple_ di bawah ini.\n",
        "> ekspektasi jawaban: `(1.5, 24, 3.523, 7.6)`"
      ]
    },
    {
      "cell_type": "code",
      "metadata": {
        "id": "slS-93xCZTRJ"
      },
      "source": [
        "tuple_2 = (1.5,24,3.523,7.6,95,40.5,34)\n",
        "\n",
        "jawaban_2 = tuple_2[0:4]"
      ],
      "execution_count": 2,
      "outputs": []
    },
    {
      "cell_type": "markdown",
      "metadata": {
        "id": "qHLuoZBQZTRK"
      },
      "source": [
        "3. Ambil tiga elemen terakhir dari _tuple_ di bawah ini.\n",
        "> ekspektasi jawaban: `(0.15, 2.11, -0.95)`"
      ]
    },
    {
      "cell_type": "code",
      "metadata": {
        "id": "f9GiRX8CZTRK"
      },
      "source": [
        "tuple_3 = (-1.92, 0.35, -0.03, -1.46, 1.58, -0.72, 2.61, 0.15, 2.11, -0.95)\n",
        "\n",
        "jawaban_3 = tuple_3[-3:]"
      ],
      "execution_count": 3,
      "outputs": []
    },
    {
      "cell_type": "markdown",
      "metadata": {
        "id": "dG3OO1tmZTRL"
      },
      "source": [
        "4. Dengan menggunakan _unpacking_, hitung nilai dari $a+2b-3c+4d$, dimana $a,b,c,d$ berturut-turut merupakan elemen pada _tuple_ di bawah ini.\n",
        "> ekspektasi jawaban: `50`"
      ]
    },
    {
      "cell_type": "code",
      "metadata": {
        "id": "Igj5FdzTZTRL"
      },
      "source": [
        "tuple_4 = (12,-8,-10,6)\n",
        "\n",
        "(a,b,c,d) = tuple_4\n",
        "jawaban_4 = a+2*b-3*c+4*d"
      ],
      "execution_count": 5,
      "outputs": []
    },
    {
      "cell_type": "markdown",
      "metadata": {
        "id": "ysoAY4FgZTRL"
      },
      "source": [
        "5. Ambil elemen kedua hingga kelima dari _list_ di bawah ini.\n",
        "> ekspektasi jawaban: `[649.81, 'Bandung', 167.3, 'Bekasi']`"
      ]
    },
    {
      "cell_type": "code",
      "metadata": {
        "id": "I_ShBZy8ZTRM"
      },
      "source": [
        "list_1 = [\"Jakarta\",649.81,\"Bandung\",167.30,\"Bekasi\",210.49,\"Bogor\",118.5]\n",
        "\n",
        "jawaban_5 = list_1[1:5]"
      ],
      "execution_count": 6,
      "outputs": []
    },
    {
      "cell_type": "markdown",
      "metadata": {
        "id": "nd3I-2J7ZTRM"
      },
      "source": [
        "6. _List_ di bawah ini seharusnya berisi bilangan prima berurutan yang kurang dari 20. Ubah elemen yang salah."
      ]
    },
    {
      "cell_type": "code",
      "metadata": {
        "id": "rVbUmMNTZTRM",
        "colab": {
          "base_uri": "https://localhost:8080/"
        },
        "outputId": "3b459df2-20ec-41ff-d1b8-29ff1d47faf0"
      },
      "source": [
        "primes_below_20 = [2,4,5,7,11,13,17,19]\n",
        "\n",
        "jawaban_6 = 1\n",
        "primes_below_20[jawaban_6] = 3\n",
        "primes_below_20"
      ],
      "execution_count": 7,
      "outputs": [
        {
          "output_type": "execute_result",
          "data": {
            "text/plain": [
              "[2, 3, 5, 7, 11, 13, 17, 19]"
            ]
          },
          "metadata": {
            "tags": []
          },
          "execution_count": 7
        }
      ]
    },
    {
      "cell_type": "markdown",
      "metadata": {
        "id": "d9nhbp0oZTRN"
      },
      "source": [
        "7. Ambil elemen \"suka\" dari nested list berikut."
      ]
    },
    {
      "cell_type": "code",
      "metadata": {
        "id": "kEU7NrjNZTRN"
      },
      "source": [
        "list_2 = [[\"aku\",\"suka\"],[\"makan\",\"rendang\"]]\n",
        "\n",
        "jawaban_7 = list_2[0][1]"
      ],
      "execution_count": 8,
      "outputs": []
    },
    {
      "cell_type": "markdown",
      "metadata": {
        "id": "ikrTS6pUZTRN"
      },
      "source": [
        "8. Tambahkan elemen 24 ke akhir _list_ berikut."
      ]
    },
    {
      "cell_type": "code",
      "metadata": {
        "id": "KbLJsZHEZTRO"
      },
      "source": [
        "list_3 = [8,16]\n",
        "\n",
        "list_3.append(24)\n",
        "jawaban_8 = list_3"
      ],
      "execution_count": 9,
      "outputs": []
    },
    {
      "cell_type": "markdown",
      "metadata": {
        "id": "1XnjP7MDZTRO"
      },
      "source": [
        "9. Hapus elemen yang bernilai 15 dari _set_ berikut."
      ]
    },
    {
      "cell_type": "code",
      "metadata": {
        "id": "88VehiSyZTRO"
      },
      "source": [
        "set_1 = {6,12,15,18}\n",
        "\n",
        "jawaban_9 = set_1.remove(15)"
      ],
      "execution_count": 10,
      "outputs": []
    },
    {
      "cell_type": "markdown",
      "metadata": {
        "id": "4TW2REDnZTRO"
      },
      "source": [
        "10. Gabungkan dua _set_ berikut tanpa ada elemen yang berulang.\n",
        "> ekspektasi jawaban: `{3, 4, 5, 8, 10, 11}`"
      ]
    },
    {
      "cell_type": "code",
      "metadata": {
        "id": "urItCvBOZTRO",
        "colab": {
          "base_uri": "https://localhost:8080/"
        },
        "outputId": "cc9abb1b-85df-4bf0-ea69-ca382016b0ef"
      },
      "source": [
        "set_A = {3,4,8,10}\n",
        "set_B = {4,5,8,11}\n",
        "\n",
        "jawaban_10 = set_A.union(set_B)"
      ],
      "execution_count": 12,
      "outputs": [
        {
          "output_type": "execute_result",
          "data": {
            "text/plain": [
              "{3, 4, 5, 8, 10, 11}"
            ]
          },
          "metadata": {
            "tags": []
          },
          "execution_count": 12
        }
      ]
    },
    {
      "cell_type": "markdown",
      "metadata": {
        "id": "QD7M2tN-ZTRP"
      },
      "source": [
        "11. Tentukan apakah set_B adalah subset dari set_A. Tipe data jawaban harus berupa Boolean.\n",
        "> ekspektasi jawaban: `True`"
      ]
    },
    {
      "cell_type": "code",
      "metadata": {
        "id": "mi8uhHaYZTRP"
      },
      "source": [
        "set_A = {2,4,8,16,32,64,128}\n",
        "set_B = {4,16,64}\n",
        "\n",
        "jawaban_11 = set_B.issubset(set_A)"
      ],
      "execution_count": 15,
      "outputs": []
    },
    {
      "cell_type": "markdown",
      "metadata": {
        "id": "-lXyzDCwZTRP"
      },
      "source": [
        "12. Buatlah _dictionary_ untuk data berikut:\n",
        "* Nama: Mangga muda\n",
        "* Warna Kulit: Hijau\n",
        "* Warna Daging: Kuning\n",
        "* Rasa: Asam\\\n",
        "Kemudian keluarkan _value_ dari _key_ \"Warna Kulit\"."
      ]
    },
    {
      "cell_type": "code",
      "metadata": {
        "id": "Svc2FbZhZTRQ"
      },
      "source": [
        "data = {\"Nama\": \"Mangga muda\", \"Warna Kulit\": \"Hijau\", \"Warna Daging\": \"Kuning\", \"Rasa\": \"Asam\"}\n",
        "\n",
        "jawaban_12 = data[\"Warna Kulit\"]"
      ],
      "execution_count": 16,
      "outputs": []
    },
    {
      "cell_type": "markdown",
      "metadata": {
        "id": "KcJ2NBc4ZTRQ"
      },
      "source": [
        "13. Hapus elemen \"Naga\" pada _dictionary_ di bawah ini."
      ]
    },
    {
      "cell_type": "code",
      "metadata": {
        "id": "CEGGdEGbZTRR",
        "colab": {
          "base_uri": "https://localhost:8080/"
        },
        "outputId": "356051c4-f8f8-4818-d2ec-254be147fbf8"
      },
      "source": [
        "pets = {\"Kucing\":\"Cat\", \"Anjing\":\"Dog\", \"Ikan mas hias\":\"Goldfish\", \"Naga\":\"Dragon\"}\n",
        "\n",
        "pets.pop(\"Naga\")\n",
        "jawaban_13 = pets\n",
        "jawaban_13"
      ],
      "execution_count": 17,
      "outputs": [
        {
          "output_type": "execute_result",
          "data": {
            "text/plain": [
              "{'Anjing': 'Dog', 'Ikan mas hias': 'Goldfish', 'Kucing': 'Cat'}"
            ]
          },
          "metadata": {
            "tags": []
          },
          "execution_count": 17
        }
      ]
    },
    {
      "cell_type": "markdown",
      "metadata": {
        "id": "QJlBAdtJZTRR"
      },
      "source": [
        "14. Diberikan data dua orang mahasiswa universitas Z berikut:\n",
        "|Nama|Fakultas|Semester|Total SKS|\n",
        "|------|-----|-----|-----|\n",
        "|Andi|Teknik|6|126|\n",
        "|Budi|Psikologi|6|118|\n",
        "\n",
        "dimana Semester adalah semester keberapa mahasiswa tersebut saat ini dan Total SKS adalah banyaknya SKS yang diperoleh sampai saat ini. Tabel di atas telah diubah ke dalam bentuk _dictionary_ pada program di bawah.\\\n",
        "Untuk mengambil matakuliah Tugas Akhir, seorang mahasiswa wajib memperoleh minimal 120 SKS. Cek apakah Andi dan Budi dapat mengambil matakuliah Tugas Akhir atau tidak. Jawaban akan berupa _tuple_ berisi dua elemen Boolean, yang berturut-turut menyatakan apakah syarat pengambilan matakuliah Tugas Akhir sudah dipenuhi oleh Andi dan oleh Budi.\\\n",
        "**Hint:** gunakan operator _comparison_."
      ]
    },
    {
      "cell_type": "code",
      "metadata": {
        "id": "_Pr37y9CZTRS"
      },
      "source": [
        "mahasiswa = {\"Andi\":{\"Fakultas\":\"Teknik\",\"Semester\":6,\"Total SKS\":126},\n",
        "            \"Budi\":{\"Fakultas\":\"Psikologi\",\"Semester\":6,\"Total SKS\":118}}\n",
        "\n",
        "andi = mahasiswa[\"Andi\"][\"Total SKS\"] >= 120\n",
        "budi = mahasiswa[\"Budi\"][\"Total SKS\"] >= 120\n",
        "\n",
        "jawaban_14 = (andi,budi)"
      ],
      "execution_count": 18,
      "outputs": []
    },
    {
      "cell_type": "markdown",
      "metadata": {
        "id": "vJcrIfv3ZTRS"
      },
      "source": [
        "15. Gunakan konsep pemrograman rekursif untuk menghitung jumlah $n$ suku pertama deret harmonik. Deret harmonik adalah deret sbb:\n",
        "$$H(n) = 1 + \\frac{1}{2} + \\frac{1}{3} + \\frac{1}{4} + \\frac{1}{5} + \\dots + \\frac{1}{n}$$\n",
        "Kemudian keluarkan jumlah 4 suku pertama deret harmonik.\\\n",
        "_Expected output_: 2.083333333333333.\n",
        "**Pada variabel jawaban_15, isi dengan hasil penjumlahan 6 suku pertama deret harmonik.**"
      ]
    },
    {
      "cell_type": "code",
      "metadata": {
        "id": "tF5UDzkHZTRT",
        "colab": {
          "base_uri": "https://localhost:8080/"
        },
        "outputId": "7cad5478-e9f8-49fd-bb1a-c205aa74e522"
      },
      "source": [
        "def harmonic(suku):\n",
        "    if suku == 1:\n",
        "        return 1\n",
        "    else:\n",
        "        return 1/suku + harmonic(suku-1)\n",
        "print(harmonic(4))\n",
        "jawaban_15 = harmonic(4)"
      ],
      "execution_count": 19,
      "outputs": [
        {
          "output_type": "stream",
          "text": [
            "2.083333333333333\n"
          ],
          "name": "stdout"
        }
      ]
    }
  ]
}