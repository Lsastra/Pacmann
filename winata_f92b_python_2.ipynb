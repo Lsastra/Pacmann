{
  "nbformat": 4,
  "nbformat_minor": 0,
  "metadata": {
    "kernelspec": {
      "display_name": "Python 3",
      "language": "python",
      "name": "python3"
    },
    "language_info": {
      "codemirror_mode": {
        "name": "ipython",
        "version": 3
      },
      "file_extension": ".py",
      "mimetype": "text/x-python",
      "name": "python",
      "nbconvert_exporter": "python",
      "pygments_lexer": "ipython3",
      "version": "3.7.6"
    },
    "colab": {
      "name": "winata-f92b_python_2",
      "provenance": [],
      "collapsed_sections": [],
      "include_colab_link": true
    }
  },
  "cells": [
    {
      "cell_type": "markdown",
      "metadata": {
        "id": "view-in-github",
        "colab_type": "text"
      },
      "source": [
        "<a href=\"https://colab.research.google.com/github/Lsastra/Pacmann/blob/main/winata_f92b_python_2.ipynb\" target=\"_parent\"><img src=\"https://colab.research.google.com/assets/colab-badge.svg\" alt=\"Open In Colab\"/></a>"
      ]
    },
    {
      "cell_type": "markdown",
      "metadata": {
        "id": "V6OIHvU6x3Qd"
      },
      "source": [
        "# Tugas Python 2\n",
        "\n",
        "* Silakan download dan kerjakan soal berikut dimanapun (laptop pribadi/google colab/etc.)\n",
        "* Setelah selesai mengerjakan, upload file ini di tempat yang telah disediakan pada platform.\n",
        "* Peserta **wajib** memberi nama file seperti berikut: {username}-python-2.ipynb\n",
        "* **Contoh: johndoe1-t123-python-2.ipynb**\n",
        "* Username dapat dilihat di dalam akun anda.\n",
        "* Jika format nama tidak sesuai dengan ketentuan, maka tugas **tidak akan dinilai**.\n",
        "* Mohon jangan mengubah nama variabel yang telah diberikan.\n",
        "* Pada titik-titik yang diberikan masukkanlah variabel yang sesuai.\n",
        "* Namun anda diperbolehkan untuk menambah kode apapun apapun.\n",
        "---"
      ]
    },
    {
      "cell_type": "markdown",
      "metadata": {
        "id": "gZ6Vcpb3x3Qi"
      },
      "source": [
        "## Contoh Menjawab"
      ]
    },
    {
      "cell_type": "markdown",
      "metadata": {
        "id": "1qlp5h87x3Qj"
      },
      "source": [
        "0. Suatu organisasi memiliki jumlah anggota 120. Ketika akan memulai rapat, jumlah peserta harus minimal $0.5n + 1$. Pada suatu hari, jumlah peserta yang hadir adalah 50. Tentukan rapat dilaksanakan atau tidak."
      ]
    },
    {
      "cell_type": "code",
      "metadata": {
        "id": "wjImtmEPx3Qk"
      },
      "source": [
        "minimal = ... #ganti titik-titik dengan minimum jumlah peserta\n",
        "peserta_sekarang = 50\n",
        "\n",
        "#ganti semua titik-titik dengan kode yang tepat\n",
        "...:\n",
        "    jawaban_0 = 'Jadi rapat.'\n",
        "...:\n",
        "    jawaban_0 = 'Tidak jadi rapat.'"
      ],
      "execution_count": null,
      "outputs": []
    },
    {
      "cell_type": "markdown",
      "metadata": {
        "id": "XTqWZC8Qx3Ql"
      },
      "source": [
        "**Contoh Jawaban** "
      ]
    },
    {
      "cell_type": "code",
      "metadata": {
        "id": "kl5ybh6ex3Ql"
      },
      "source": [
        "anggota = 120\n",
        "minimal = 0.5*anggota + 1\n",
        "peserta_sekarang = 50\n",
        "\n",
        "if peserta_sekarang >= minimal:\n",
        "    jawaban_0 = 'Jadi rapat.'\n",
        "else:\n",
        "    jawaban_0 = 'Tidak jadi rapat.'\n",
        "\n",
        "print(jawaban_0) # ini tidak wajib, bisa digunakan jika anda ingin mengecek jawaban anda"
      ],
      "execution_count": null,
      "outputs": []
    },
    {
      "cell_type": "markdown",
      "metadata": {
        "id": "8hx529uox3Qn"
      },
      "source": [
        "---\n",
        "---\n",
        "## Soal"
      ]
    },
    {
      "cell_type": "markdown",
      "metadata": {
        "id": "Bxr5oy_fx3Qn"
      },
      "source": [
        "1. Untuk lulus mata kuliah statistika, perlu nilai akhir minimal 55. Gunakan operator _comparison_ untuk menentukan apakah Amir lulus mata kuliah tersebut atau tidak, bila diberikan nilai akhir Amir adalah 70."
      ]
    },
    {
      "cell_type": "code",
      "metadata": {
        "id": "SbQLpQFsx3Qo",
        "colab": {
          "base_uri": "https://localhost:8080/"
        },
        "outputId": "7669c6cc-9874-40f7-bb10-be0d3c35c36c"
      },
      "source": [
        "nilai_amir = 70\n",
        "nilai_minimal = 55\n",
        "\n",
        "jawaban_1 = nilai_amir > nilai_minimal\n",
        "print(f\"Amir lulus mata kuliah statistik karena nilai Amir {jawaban_1} > dari nilai minimal\")"
      ],
      "execution_count": 1,
      "outputs": [
        {
          "output_type": "stream",
          "text": [
            "Amir lulus mata kuliah statistik karena nilai Amir True > dari nilai minimal\n"
          ],
          "name": "stdout"
        }
      ]
    },
    {
      "cell_type": "markdown",
      "metadata": {
        "id": "P8gk4D_ax3Qo"
      },
      "source": [
        "2. Tentukan nilai kebenaran dari pernyataan berikut (True/False).\\\n",
        "$(13>12)$ OR ($11<10$ AND $9==8$)"
      ]
    },
    {
      "cell_type": "code",
      "metadata": {
        "id": "Vy-054dCx3Qo",
        "colab": {
          "base_uri": "https://localhost:8080/"
        },
        "outputId": "aedc328a-611b-4c09-cd3c-e44637aac2a8"
      },
      "source": [
        "jawaban_2 = (13>12) or (11 < 10 and 9 == 8)\n",
        "jawaban_2\n",
        "\n",
        "q2_step1 = 13>12\n",
        "print(q2_step1)\n",
        "q2_step2 = 11 < 10\n",
        "print(q2_step2)\n",
        "q2_step3 = 9 == 8\n",
        "print(q2_step3)\n",
        "\n",
        "#q2_step2 and q2_step3\n",
        "q2_step4 = False and False\n",
        "print(q2_step4)\n",
        "\n",
        "#q2_step1 or q2_step4\n",
        "q2_step5 = True or False\n",
        "print(q2_step5)\n",
        "\n"
      ],
      "execution_count": 2,
      "outputs": [
        {
          "output_type": "stream",
          "text": [
            "True\n",
            "False\n",
            "False\n",
            "False\n",
            "True\n"
          ],
          "name": "stdout"
        }
      ]
    },
    {
      "cell_type": "markdown",
      "metadata": {
        "id": "hkipgyFIx3Qp"
      },
      "source": [
        "3. Tentukan apakah 123456789 habis dibagi 11 atau tidak."
      ]
    },
    {
      "cell_type": "code",
      "metadata": {
        "id": "ygw4KVHPx3Qp",
        "colab": {
          "base_uri": "https://localhost:8080/"
        },
        "outputId": "c1d63e4a-ef3e-4170-8c9b-d9a6a50b38f0"
      },
      "source": [
        "bilangan = 123456789\n",
        "if bilangan % 11 == 0:\n",
        "    jawaban_3 = 'Habis dibagi 11'\n",
        "else:\n",
        "    jawaban_3 = 'Tidak habis dibagi 11'\n",
        "\n",
        "print(jawaban_3)"
      ],
      "execution_count": 3,
      "outputs": [
        {
          "output_type": "stream",
          "text": [
            "Tidak habis dibagi 11\n"
          ],
          "name": "stdout"
        }
      ]
    },
    {
      "cell_type": "markdown",
      "metadata": {
        "id": "eJ0zZ9a66B4w"
      },
      "source": [
        "# **Logic**\n",
        "\n",
        "1. Sebuah nilai disimpan ke dalam suatu objek bernama \"bilangan\"\n",
        "2. memanfaatkan modulo, yang akan menghasilkan nilai 0 apabila \"bilangan\" habis dibagi dengan value yang telah didefinisikan (Untuk kasus ini, 11 merupakan value tersebut)\n",
        "3. Hasil modulo akan disandingkan dengan operator \"cek kesamaan\" dengan value 0, sehingga hasilnya akan True apabila \"bilangan\" habis dibagi dengan value\n",
        "4. Apabila kondisi sebelumnya tidak terpenuhi, maka operasi else akan dilakukan, yaitu membuat nilai jawaban_3 menjadi \"tidak habis dibagi\"\n",
        "\n",
        "**Catatan Winata**"
      ]
    },
    {
      "cell_type": "markdown",
      "metadata": {
        "id": "Uc7deE64x3Qp"
      },
      "source": [
        "4. Sistem keamanan yang dipasang di suatu bendungan akan memberikan alarm bahaya ketika tinggi air mencapai lebih dari 950 cm. Apabila tinggi air hari ini adalah 945 cm, tentukan apakah sistem akan memberikan alarm atau tidak."
      ]
    },
    {
      "cell_type": "code",
      "metadata": {
        "id": "pC7pGCrKx3Qp",
        "colab": {
          "base_uri": "https://localhost:8080/"
        },
        "outputId": "80f97968-7dd0-48b7-b445-44bdaf449c0b"
      },
      "source": [
        "hari_ini = 945\n",
        "batasan = 950\n",
        "\n",
        "if hari_ini > batasan:\n",
        "    jawaban_4 = 'Bahaya!'\n",
        "else:\n",
        "    jawaban_4 = 'Tidak bahaya.'\n",
        "\n",
        "print(jawaban_4)"
      ],
      "execution_count": 4,
      "outputs": [
        {
          "output_type": "stream",
          "text": [
            "Tidak bahaya.\n"
          ],
          "name": "stdout"
        }
      ]
    },
    {
      "cell_type": "markdown",
      "metadata": {
        "id": "Rzwc5Oewx3Qp"
      },
      "source": [
        "5. Pak Man berbelanja di sebuah minimarket. Pak Man membeli 2 kg telur, 2 kotak susu, dan 5 bungkus mie instan. Harga masing-masing barang diberikan oleh tabel berikut.\n",
        "\n",
        "|Barang|Harga|\n",
        "|------|-----|\n",
        "|Telur|Rp 17000/kg|\n",
        "|Susu|Rp 28000/kotak|\n",
        "|Mie instan|Rp 2000/bungkus|\n",
        "\n",
        "Pak Man membawa uang Rp 100.000. Cek apakah uang Pak Man pas untuk membayar belanjaannya atau tidak."
      ]
    },
    {
      "cell_type": "code",
      "metadata": {
        "id": "Fet0V5vex3Qp",
        "colab": {
          "base_uri": "https://localhost:8080/"
        },
        "outputId": "0486d062-dfd7-4830-e17e-cb9f636b9ade"
      },
      "source": [
        "telur = 17000\n",
        "susu = 28000\n",
        "mie_instan = 2000\n",
        "\n",
        "total_belanja = 2*telur + 2 *susu + 5*mie_instan\n",
        "uang_pakman = 100000\n",
        "\n",
        "#ganti titik-titik dengan kode yang tepat\n",
        "if total_belanja < uang_pakman:\n",
        "    jawaban_5 = 'Uang lebih.'\n",
        "elif total_belanja == uang_pakman:\n",
        "    jawaban_5 = 'Uang pas.'\n",
        "else:\n",
        "    jawaban_5 = 'Uang kurang.'\n",
        "\n",
        "print(jawaban_5)"
      ],
      "execution_count": 5,
      "outputs": [
        {
          "output_type": "stream",
          "text": [
            "Uang pas.\n"
          ],
          "name": "stdout"
        }
      ]
    },
    {
      "cell_type": "markdown",
      "metadata": {
        "id": "wtgzgG1Ax3Qq"
      },
      "source": [
        "6. Arin mengikuti ujian mata kuliah Pemrograman. Jika nilai ujiannya di bawah 75, ia harus mengikuti perbaikan. Sebaliknya, jika nilai ujiannya 75 atau lebih, ia tidak perlu melakukan apa-apa. Ternyata, nilainya adalah 74. Apakah Arin memerlukan perbaikan ujian? Lengkapi _syntax_ di bawah ini."
      ]
    },
    {
      "cell_type": "code",
      "metadata": {
        "id": "KXfCiuh6x3Qq",
        "colab": {
          "base_uri": "https://localhost:8080/"
        },
        "outputId": "cf3334fa-4341-432d-8db3-16f0d373608a"
      },
      "source": [
        "nilai_arin = 74\n",
        "nilai_minimal = 75\n",
        "\n",
        "#ganti semua titik-titik dengan kode yang tepat\n",
        "if nilai_arin >= nilai_minimal:\n",
        "    pass\n",
        "else:\n",
        "    jawaban_6 = 'Perlu perbaikan.'\n",
        "\n",
        "print(jawaban_6)"
      ],
      "execution_count": 6,
      "outputs": [
        {
          "output_type": "stream",
          "text": [
            "Perlu perbaikan.\n"
          ],
          "name": "stdout"
        }
      ]
    },
    {
      "cell_type": "markdown",
      "metadata": {
        "id": "ZUL1A7f5x3Qq"
      },
      "source": [
        "7. Pada suatu agensi model, seleksi kandidat model dilakukan berdasarkan tinggi badan. Rata-rata tinggi model di agensi tersebut adalah 165 cm. Agensi menginginkan model yang memiliki tinggi yang seragam dengan rata-rata, namun mereka masih mau menerima model dengan toleransi tinggi 5 cm dari rata-rata. Artinya, kandidat yang diterima adalah kandidat dengan tinggi minimal 5 cm di bawah rata-rata sampai maksimal 5 cm di atas rata-rata. Apakah kandidat dengan tinggi 167 cm akan diterima agensi tersebut?"
      ]
    },
    {
      "cell_type": "code",
      "metadata": {
        "id": "L9IVzWWOx3Qq",
        "colab": {
          "base_uri": "https://localhost:8080/"
        },
        "outputId": "eac1ba91-b4e5-420d-fd49-b9e3b35cfc0a"
      },
      "source": [
        "tinggi_model = 160\n",
        "\n",
        "#ganti semua titik-titik dengan kode yang benar\n",
        "if 160<=tinggi_model<=170:\n",
        "    jawaban_7 = 'Diterima'\n",
        "else:\n",
        "    jawaban_7 = 'Tidak diterima'\n",
        "print(jawaban_7)"
      ],
      "execution_count": 7,
      "outputs": [
        {
          "output_type": "stream",
          "text": [
            "Diterima\n"
          ],
          "name": "stdout"
        }
      ]
    },
    {
      "cell_type": "markdown",
      "metadata": {
        "id": "vEunk__7x3Qq"
      },
      "source": [
        "8. Suatu sekolah menyeleksi calon siswa baru berdasarkan nilai tes Matematika dan Bahasa Inggris. Calon siswa diterima di sekolah tersebut apabila nilai tes keduanya tidak ada yang kurang dari 75. Calon siswa yang diterima akan dibagi ke dalam tiga kelas: Kelas A, Kelas B, dan Kelas C. Kriterianya adalah sebagai berikut:\n",
        "* Kelas A: nilai Matematika > 85 dan nilai Bahasa Inggris $\\geq$ 80\n",
        "* Kelas B: nilai Matematika > 80 dan nilai Bahasa Inggris $\\geq$ 77.5\n",
        "* Sisanya akan masuk ke kelas C\\\n",
        "\\\n",
        "Rudi mendapatkan nilai tes Matematika 84 dan tes Bahasa Inggris 77.5. Apakah Rudi diterima sebagai siswa sekolah tersebut? Jika ya, masuk ke kelas manakah dia?"
      ]
    },
    {
      "cell_type": "code",
      "metadata": {
        "id": "gzpEodGpx3Qq",
        "colab": {
          "base_uri": "https://localhost:8080/"
        },
        "outputId": "0cc76d2a-c689-49e4-8833-9a9d7347d31b"
      },
      "source": [
        "nilai_mtk = 84\n",
        "nilai_ing = 77.5\n",
        "\n",
        "#ganti semua titik-titik dengan kode yang benar.\n",
        "if nilai_mtk >= 75 and nilai_ing >= 75:\n",
        "    if nilai_mtk > 85 and nilai_ing >= 80:\n",
        "        jawaban_8 = 'Kelas A'\n",
        "    elif nilai_mtk > 80 and nilai_ing >= 77.5:\n",
        "        jawaban_8 = 'Kelas B'\n",
        "    else:\n",
        "        jawaban_8 = 'Kelas C'\n",
        "else:\n",
        "    jawaban_8 = 'Tidak diterima'\n",
        "\n",
        "print(jawaban_8)"
      ],
      "execution_count": 8,
      "outputs": [
        {
          "output_type": "stream",
          "text": [
            "Kelas B\n"
          ],
          "name": "stdout"
        }
      ]
    },
    {
      "cell_type": "markdown",
      "metadata": {
        "id": "OZvDNCcLx3Qr"
      },
      "source": [
        "9. Keluarkan semua bilangan kelipatan 8 yang nilai kuadratnya di bawah 600."
      ]
    },
    {
      "cell_type": "code",
      "metadata": {
        "id": "eh69mehmx3Qs",
        "colab": {
          "base_uri": "https://localhost:8080/"
        },
        "outputId": "5e1d5d13-0077-44d2-de95-76c0048545be"
      },
      "source": [
        "i = 1\n",
        "jawaban_9 = 600 #ganti dengan angka yang tepat\n",
        "\n",
        "#ganti titik-titik dengan kode yang tepat\n",
        "while (8*i)**2 < jawaban_9:\n",
        "    print(8*i)\n",
        "    i+=1"
      ],
      "execution_count": 9,
      "outputs": [
        {
          "output_type": "stream",
          "text": [
            "8\n",
            "16\n",
            "24\n"
          ],
          "name": "stdout"
        }
      ]
    },
    {
      "cell_type": "markdown",
      "metadata": {
        "id": "QfXFipJXx3Qs"
      },
      "source": [
        "10. Hitung jumlah kuadrat dari bilangan bulat mulai dari 1 sampai 10.\\\n",
        "$$1^2 + 2^2 + \\dots + 10^2$$"
      ]
    },
    {
      "cell_type": "code",
      "metadata": {
        "id": "U8wpU4EAx3Qs",
        "colab": {
          "base_uri": "https://localhost:8080/"
        },
        "outputId": "b70c1949-bfde-4f3d-a02a-fa37ac967dc3"
      },
      "source": [
        "jawaban_10 = 0\n",
        "\n",
        "#ganti semua titik-titik dengan kode yang tepat\n",
        "for i in range(11):\n",
        "    jawaban_10+=i**2\n",
        "\n",
        "print(jawaban_10)"
      ],
      "execution_count": 10,
      "outputs": [
        {
          "output_type": "stream",
          "text": [
            "385\n"
          ],
          "name": "stdout"
        }
      ]
    },
    {
      "cell_type": "markdown",
      "metadata": {
        "id": "IGweamwhx3Qs"
      },
      "source": [
        "11. Keluarkan semua bilangan mulai dari 10 sampai 50, loncat 4.\\\n",
        "$$10, 14, 18, \\dots$$"
      ]
    },
    {
      "cell_type": "code",
      "metadata": {
        "id": "M_LYVafYx3Qt",
        "colab": {
          "base_uri": "https://localhost:8080/"
        },
        "outputId": "fe0fe4b7-5f75-4ec1-a2d9-2f9d48b85a29"
      },
      "source": [
        "jawaban_11 = 10 #ganti titik-titik di samping dengan bilangan awalnya.\n",
        "\n",
        "#tulis kodenya dibawah ini\n",
        "while jawaban_11 < 50 :\n",
        "  if jawaban_11 == 10:\n",
        "    print(jawaban_11)\n",
        "    jawaban_11 += 4\n",
        "  else:\n",
        "    print(jawaban_11)\n",
        "    jawaban_11 +=4\n",
        "\n",
        "print(jawaban_11)"
      ],
      "execution_count": 11,
      "outputs": [
        {
          "output_type": "stream",
          "text": [
            "10\n",
            "14\n",
            "18\n",
            "22\n",
            "26\n",
            "30\n",
            "34\n",
            "38\n",
            "42\n",
            "46\n",
            "50\n"
          ],
          "name": "stdout"
        }
      ]
    },
    {
      "cell_type": "markdown",
      "metadata": {
        "id": "FR-Z7L3Qx3Qt"
      },
      "source": [
        "12. Jabarkan huruf dari kata 'onomatopoeia', namun hentikan penjabaran ketika program sudah mengeluarkan huruf 't'. _Expected output_:\n",
        "```\n",
        "o\n",
        "n\n",
        "o\n",
        "m\n",
        "a\n",
        "t\n",
        "```"
      ]
    },
    {
      "cell_type": "code",
      "metadata": {
        "id": "_MYnBLDVx3Qt",
        "colab": {
          "base_uri": "https://localhost:8080/"
        },
        "outputId": "8bf6f3e7-c0f5-4650-d48a-6c1e0a8e58be"
      },
      "source": [
        "kata = 'onomatopoeia'\n",
        "stop_word = \"t\"\n",
        "\n",
        "#ganti titik-titik dengan kode yang tepat\n",
        "for jawaban_12 in kata:\n",
        "    if jawaban_12 == stop_word:\n",
        "      break\n",
        "    print(jawaban_12)\n",
        "print(stop_word)"
      ],
      "execution_count": 12,
      "outputs": [
        {
          "output_type": "stream",
          "text": [
            "o\n",
            "n\n",
            "o\n",
            "m\n",
            "a\n",
            "t\n"
          ],
          "name": "stdout"
        }
      ]
    },
    {
      "cell_type": "markdown",
      "metadata": {
        "id": "XyEIiKcWx3Qt"
      },
      "source": [
        "13. Keluarkan semua bilangan asli kurang dari 21, namun bilangan kelipatan 4 tidak diikutsertakan."
      ]
    },
    {
      "cell_type": "code",
      "metadata": {
        "id": "-NUUwVw_x3Qt",
        "colab": {
          "base_uri": "https://localhost:8080/"
        },
        "outputId": "a8d7b60a-1f1e-4e89-8aae-061fcecc27ba"
      },
      "source": [
        "#ganti semua titik-titik dengan kode yang tepat\n",
        "jawaban_13 = 0\n",
        "\n",
        "while jawaban_13 < 20:\n",
        "    jawaban_13 += 1\n",
        "    if jawaban_13 % 4 == 0:\n",
        "        pass\n",
        "    else:\n",
        "      print(jawaban_13)"
      ],
      "execution_count": 13,
      "outputs": [
        {
          "output_type": "stream",
          "text": [
            "1\n",
            "2\n",
            "3\n",
            "5\n",
            "6\n",
            "7\n",
            "9\n",
            "10\n",
            "11\n",
            "13\n",
            "14\n",
            "15\n",
            "17\n",
            "18\n",
            "19\n"
          ],
          "name": "stdout"
        }
      ]
    },
    {
      "cell_type": "markdown",
      "metadata": {
        "id": "NVlWAB70x3Qt"
      },
      "source": [
        "14. Berapa jumlah semua bilangan asli kurang dari atau sama dengan 50, namun bilangan kelipatan 3 tidak diikutsertakan? Dengan kata lain, hitunglah $1+2+4+5+7+8+\\dots+50$."
      ]
    },
    {
      "cell_type": "code",
      "metadata": {
        "id": "NJBtHoGbx3Qt",
        "colab": {
          "base_uri": "https://localhost:8080/"
        },
        "outputId": "e3fc9808-c286-4232-d45e-25aa3c27d366"
      },
      "source": [
        "jawaban_14 = 0\n",
        "\n",
        "for i in range(1,51):\n",
        "    if i % 3 == 0 :\n",
        "        continue\n",
        "    jawaban_14 +=i\n",
        "print(jawaban_14)"
      ],
      "execution_count": 14,
      "outputs": [
        {
          "output_type": "stream",
          "text": [
            "867\n"
          ],
          "name": "stdout"
        }
      ]
    },
    {
      "cell_type": "markdown",
      "metadata": {
        "id": "nYZYxQj6x3Qt"
      },
      "source": [
        "15. Keluarkan semua bilangan asli yang nilai kuadratnya lebih dari 20, dengan syarat:\n",
        "* bilangan yang habis dibagi 3 atau 4 tidak ikut dikeluarkan, dan\n",
        "* jika nilai kuadratnya sudah melewati 625, maka program berhenti."
      ]
    },
    {
      "cell_type": "code",
      "metadata": {
        "id": "_ZD4wyFNx3Qu",
        "colab": {
          "base_uri": "https://localhost:8080/"
        },
        "outputId": "f9f83b48-25cc-4bdb-839e-821f951ca192"
      },
      "source": [
        "#ganti titik-titik dengan kode yang tepat\n",
        "angka = 0\n",
        "while angka**2 < 625:\n",
        "  angka += 1\n",
        "\n",
        "for jawaban_15 in range(angka):\n",
        "  if jawaban_15 ** 2 < 20:\n",
        "    continue\n",
        "  print(jawaban_15)"
      ],
      "execution_count": 15,
      "outputs": [
        {
          "output_type": "stream",
          "text": [
            "5\n",
            "6\n",
            "7\n",
            "8\n",
            "9\n",
            "10\n",
            "11\n",
            "12\n",
            "13\n",
            "14\n",
            "15\n",
            "16\n",
            "17\n",
            "18\n",
            "19\n",
            "20\n",
            "21\n",
            "22\n",
            "23\n",
            "24\n"
          ],
          "name": "stdout"
        }
      ]
    }
  ]
}